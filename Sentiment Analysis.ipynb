{
  "nbformat": 4,
  "nbformat_minor": 0,
  "metadata": {
    "colab": {
      "provenance": []
    },
    "kernelspec": {
      "name": "python3",
      "display_name": "Python 3"
    },
    "language_info": {
      "name": "python"
    }
  },
  "cells": [
    {
      "cell_type": "code",
      "execution_count": null,
      "metadata": {
        "id": "RZazWatnhnb4"
      },
      "outputs": [],
      "source": [
        "import numpy as np\n",
        "import pandas as pd\n",
        "\n",
        "from tensorflow.keras.models import Sequential\n",
        "from tensorflow.keras.layers import Dense ,GRU, Embedding\n",
        "from tensorflow.keras.optimizers import Adam\n",
        "from tensorflow.keras.preprocessing.text import Tokenizer\n",
        "from tensorflow.keras.preprocessing.sequence import pad_sequences"
      ]
    },
    {
      "cell_type": "code",
      "source": [
        "df=pd.read_csv(\"Tweets.csv\")"
      ],
      "metadata": {
        "id": "gQOSZ832hoHc"
      },
      "execution_count": null,
      "outputs": []
    },
    {
      "cell_type": "code",
      "source": [
        "df.drop(['selected_text', 'textID'], axis=1, inplace=True)"
      ],
      "metadata": {
        "id": "QR5XNhTch3AD"
      },
      "execution_count": null,
      "outputs": []
    },
    {
      "cell_type": "code",
      "source": [
        "df.shape"
      ],
      "metadata": {
        "colab": {
          "base_uri": "https://localhost:8080/"
        },
        "id": "pYzk95AQjEtJ",
        "outputId": "ea764d75-b30f-4dc1-ffc2-5ea70e62e55a"
      },
      "execution_count": null,
      "outputs": [
        {
          "output_type": "execute_result",
          "data": {
            "text/plain": [
              "(27481, 2)"
            ]
          },
          "metadata": {},
          "execution_count": 336
        }
      ]
    },
    {
      "cell_type": "code",
      "source": [
        "df.info()"
      ],
      "metadata": {
        "colab": {
          "base_uri": "https://localhost:8080/"
        },
        "id": "wh7Z8BuKjHKG",
        "outputId": "99c6c932-1c8e-4e77-bc57-fe57b538aaad"
      },
      "execution_count": null,
      "outputs": [
        {
          "output_type": "stream",
          "name": "stdout",
          "text": [
            "<class 'pandas.core.frame.DataFrame'>\n",
            "RangeIndex: 27481 entries, 0 to 27480\n",
            "Data columns (total 2 columns):\n",
            " #   Column     Non-Null Count  Dtype \n",
            "---  ------     --------------  ----- \n",
            " 0   text       27480 non-null  object\n",
            " 1   sentiment  27481 non-null  object\n",
            "dtypes: object(2)\n",
            "memory usage: 429.5+ KB\n"
          ]
        }
      ]
    },
    {
      "cell_type": "code",
      "source": [
        "df[\"sentiment\"] = df[\"sentiment\"].replace({\n",
        "    \"positive\": 1,\n",
        "    \"negative\": -1,\n",
        "    \"neutral\": 0\n",
        "})"
      ],
      "metadata": {
        "id": "NDKKja6OjaqU"
      },
      "execution_count": null,
      "outputs": []
    },
    {
      "cell_type": "code",
      "source": [
        "df.rename(columns={'sentiment': 'rating'}, inplace=True)"
      ],
      "metadata": {
        "id": "88asy9hyjobk"
      },
      "execution_count": null,
      "outputs": []
    },
    {
      "cell_type": "code",
      "source": [
        "df[\"rating\"] = df[\"rating\"].astype(int)"
      ],
      "metadata": {
        "id": "zQEViy8ijKop"
      },
      "execution_count": null,
      "outputs": []
    },
    {
      "cell_type": "code",
      "source": [
        "df.head()"
      ],
      "metadata": {
        "colab": {
          "base_uri": "https://localhost:8080/",
          "height": 206
        },
        "id": "hQWUfZ33h5gn",
        "outputId": "2956f679-aba1-4635-8168-75a5caacf027"
      },
      "execution_count": null,
      "outputs": [
        {
          "output_type": "execute_result",
          "data": {
            "text/plain": [
              "                                                text  rating\n",
              "0                I`d have responded, if I were going       0\n",
              "1      Sooo SAD I will miss you here in San Diego!!!      -1\n",
              "2                          my boss is bullying me...      -1\n",
              "3                     what interview! leave me alone      -1\n",
              "4   Sons of ****, why couldn`t they put them on t...      -1"
            ],
            "text/html": [
              "\n",
              "  <div id=\"df-879dc3b1-200a-46f8-ad57-8b936323b197\" class=\"colab-df-container\">\n",
              "    <div>\n",
              "<style scoped>\n",
              "    .dataframe tbody tr th:only-of-type {\n",
              "        vertical-align: middle;\n",
              "    }\n",
              "\n",
              "    .dataframe tbody tr th {\n",
              "        vertical-align: top;\n",
              "    }\n",
              "\n",
              "    .dataframe thead th {\n",
              "        text-align: right;\n",
              "    }\n",
              "</style>\n",
              "<table border=\"1\" class=\"dataframe\">\n",
              "  <thead>\n",
              "    <tr style=\"text-align: right;\">\n",
              "      <th></th>\n",
              "      <th>text</th>\n",
              "      <th>rating</th>\n",
              "    </tr>\n",
              "  </thead>\n",
              "  <tbody>\n",
              "    <tr>\n",
              "      <th>0</th>\n",
              "      <td>I`d have responded, if I were going</td>\n",
              "      <td>0</td>\n",
              "    </tr>\n",
              "    <tr>\n",
              "      <th>1</th>\n",
              "      <td>Sooo SAD I will miss you here in San Diego!!!</td>\n",
              "      <td>-1</td>\n",
              "    </tr>\n",
              "    <tr>\n",
              "      <th>2</th>\n",
              "      <td>my boss is bullying me...</td>\n",
              "      <td>-1</td>\n",
              "    </tr>\n",
              "    <tr>\n",
              "      <th>3</th>\n",
              "      <td>what interview! leave me alone</td>\n",
              "      <td>-1</td>\n",
              "    </tr>\n",
              "    <tr>\n",
              "      <th>4</th>\n",
              "      <td>Sons of ****, why couldn`t they put them on t...</td>\n",
              "      <td>-1</td>\n",
              "    </tr>\n",
              "  </tbody>\n",
              "</table>\n",
              "</div>\n",
              "    <div class=\"colab-df-buttons\">\n",
              "\n",
              "  <div class=\"colab-df-container\">\n",
              "    <button class=\"colab-df-convert\" onclick=\"convertToInteractive('df-879dc3b1-200a-46f8-ad57-8b936323b197')\"\n",
              "            title=\"Convert this dataframe to an interactive table.\"\n",
              "            style=\"display:none;\">\n",
              "\n",
              "  <svg xmlns=\"http://www.w3.org/2000/svg\" height=\"24px\" viewBox=\"0 -960 960 960\">\n",
              "    <path d=\"M120-120v-720h720v720H120Zm60-500h600v-160H180v160Zm220 220h160v-160H400v160Zm0 220h160v-160H400v160ZM180-400h160v-160H180v160Zm440 0h160v-160H620v160ZM180-180h160v-160H180v160Zm440 0h160v-160H620v160Z\"/>\n",
              "  </svg>\n",
              "    </button>\n",
              "\n",
              "  <style>\n",
              "    .colab-df-container {\n",
              "      display:flex;\n",
              "      gap: 12px;\n",
              "    }\n",
              "\n",
              "    .colab-df-convert {\n",
              "      background-color: #E8F0FE;\n",
              "      border: none;\n",
              "      border-radius: 50%;\n",
              "      cursor: pointer;\n",
              "      display: none;\n",
              "      fill: #1967D2;\n",
              "      height: 32px;\n",
              "      padding: 0 0 0 0;\n",
              "      width: 32px;\n",
              "    }\n",
              "\n",
              "    .colab-df-convert:hover {\n",
              "      background-color: #E2EBFA;\n",
              "      box-shadow: 0px 1px 2px rgba(60, 64, 67, 0.3), 0px 1px 3px 1px rgba(60, 64, 67, 0.15);\n",
              "      fill: #174EA6;\n",
              "    }\n",
              "\n",
              "    .colab-df-buttons div {\n",
              "      margin-bottom: 4px;\n",
              "    }\n",
              "\n",
              "    [theme=dark] .colab-df-convert {\n",
              "      background-color: #3B4455;\n",
              "      fill: #D2E3FC;\n",
              "    }\n",
              "\n",
              "    [theme=dark] .colab-df-convert:hover {\n",
              "      background-color: #434B5C;\n",
              "      box-shadow: 0px 1px 3px 1px rgba(0, 0, 0, 0.15);\n",
              "      filter: drop-shadow(0px 1px 2px rgba(0, 0, 0, 0.3));\n",
              "      fill: #FFFFFF;\n",
              "    }\n",
              "  </style>\n",
              "\n",
              "    <script>\n",
              "      const buttonEl =\n",
              "        document.querySelector('#df-879dc3b1-200a-46f8-ad57-8b936323b197 button.colab-df-convert');\n",
              "      buttonEl.style.display =\n",
              "        google.colab.kernel.accessAllowed ? 'block' : 'none';\n",
              "\n",
              "      async function convertToInteractive(key) {\n",
              "        const element = document.querySelector('#df-879dc3b1-200a-46f8-ad57-8b936323b197');\n",
              "        const dataTable =\n",
              "          await google.colab.kernel.invokeFunction('convertToInteractive',\n",
              "                                                    [key], {});\n",
              "        if (!dataTable) return;\n",
              "\n",
              "        const docLinkHtml = 'Like what you see? Visit the ' +\n",
              "          '<a target=\"_blank\" href=https://colab.research.google.com/notebooks/data_table.ipynb>data table notebook</a>'\n",
              "          + ' to learn more about interactive tables.';\n",
              "        element.innerHTML = '';\n",
              "        dataTable['output_type'] = 'display_data';\n",
              "        await google.colab.output.renderOutput(dataTable, element);\n",
              "        const docLink = document.createElement('div');\n",
              "        docLink.innerHTML = docLinkHtml;\n",
              "        element.appendChild(docLink);\n",
              "      }\n",
              "    </script>\n",
              "  </div>\n",
              "\n",
              "\n",
              "<div id=\"df-05999419-e058-4190-938c-36f6ff2c2355\">\n",
              "  <button class=\"colab-df-quickchart\" onclick=\"quickchart('df-05999419-e058-4190-938c-36f6ff2c2355')\"\n",
              "            title=\"Suggest charts.\"\n",
              "            style=\"display:none;\">\n",
              "\n",
              "<svg xmlns=\"http://www.w3.org/2000/svg\" height=\"24px\"viewBox=\"0 0 24 24\"\n",
              "     width=\"24px\">\n",
              "    <g>\n",
              "        <path d=\"M19 3H5c-1.1 0-2 .9-2 2v14c0 1.1.9 2 2 2h14c1.1 0 2-.9 2-2V5c0-1.1-.9-2-2-2zM9 17H7v-7h2v7zm4 0h-2V7h2v10zm4 0h-2v-4h2v4z\"/>\n",
              "    </g>\n",
              "</svg>\n",
              "  </button>\n",
              "\n",
              "<style>\n",
              "  .colab-df-quickchart {\n",
              "      --bg-color: #E8F0FE;\n",
              "      --fill-color: #1967D2;\n",
              "      --hover-bg-color: #E2EBFA;\n",
              "      --hover-fill-color: #174EA6;\n",
              "      --disabled-fill-color: #AAA;\n",
              "      --disabled-bg-color: #DDD;\n",
              "  }\n",
              "\n",
              "  [theme=dark] .colab-df-quickchart {\n",
              "      --bg-color: #3B4455;\n",
              "      --fill-color: #D2E3FC;\n",
              "      --hover-bg-color: #434B5C;\n",
              "      --hover-fill-color: #FFFFFF;\n",
              "      --disabled-bg-color: #3B4455;\n",
              "      --disabled-fill-color: #666;\n",
              "  }\n",
              "\n",
              "  .colab-df-quickchart {\n",
              "    background-color: var(--bg-color);\n",
              "    border: none;\n",
              "    border-radius: 50%;\n",
              "    cursor: pointer;\n",
              "    display: none;\n",
              "    fill: var(--fill-color);\n",
              "    height: 32px;\n",
              "    padding: 0;\n",
              "    width: 32px;\n",
              "  }\n",
              "\n",
              "  .colab-df-quickchart:hover {\n",
              "    background-color: var(--hover-bg-color);\n",
              "    box-shadow: 0 1px 2px rgba(60, 64, 67, 0.3), 0 1px 3px 1px rgba(60, 64, 67, 0.15);\n",
              "    fill: var(--button-hover-fill-color);\n",
              "  }\n",
              "\n",
              "  .colab-df-quickchart-complete:disabled,\n",
              "  .colab-df-quickchart-complete:disabled:hover {\n",
              "    background-color: var(--disabled-bg-color);\n",
              "    fill: var(--disabled-fill-color);\n",
              "    box-shadow: none;\n",
              "  }\n",
              "\n",
              "  .colab-df-spinner {\n",
              "    border: 2px solid var(--fill-color);\n",
              "    border-color: transparent;\n",
              "    border-bottom-color: var(--fill-color);\n",
              "    animation:\n",
              "      spin 1s steps(1) infinite;\n",
              "  }\n",
              "\n",
              "  @keyframes spin {\n",
              "    0% {\n",
              "      border-color: transparent;\n",
              "      border-bottom-color: var(--fill-color);\n",
              "      border-left-color: var(--fill-color);\n",
              "    }\n",
              "    20% {\n",
              "      border-color: transparent;\n",
              "      border-left-color: var(--fill-color);\n",
              "      border-top-color: var(--fill-color);\n",
              "    }\n",
              "    30% {\n",
              "      border-color: transparent;\n",
              "      border-left-color: var(--fill-color);\n",
              "      border-top-color: var(--fill-color);\n",
              "      border-right-color: var(--fill-color);\n",
              "    }\n",
              "    40% {\n",
              "      border-color: transparent;\n",
              "      border-right-color: var(--fill-color);\n",
              "      border-top-color: var(--fill-color);\n",
              "    }\n",
              "    60% {\n",
              "      border-color: transparent;\n",
              "      border-right-color: var(--fill-color);\n",
              "    }\n",
              "    80% {\n",
              "      border-color: transparent;\n",
              "      border-right-color: var(--fill-color);\n",
              "      border-bottom-color: var(--fill-color);\n",
              "    }\n",
              "    90% {\n",
              "      border-color: transparent;\n",
              "      border-bottom-color: var(--fill-color);\n",
              "    }\n",
              "  }\n",
              "</style>\n",
              "\n",
              "  <script>\n",
              "    async function quickchart(key) {\n",
              "      const quickchartButtonEl =\n",
              "        document.querySelector('#' + key + ' button');\n",
              "      quickchartButtonEl.disabled = true;  // To prevent multiple clicks.\n",
              "      quickchartButtonEl.classList.add('colab-df-spinner');\n",
              "      try {\n",
              "        const charts = await google.colab.kernel.invokeFunction(\n",
              "            'suggestCharts', [key], {});\n",
              "      } catch (error) {\n",
              "        console.error('Error during call to suggestCharts:', error);\n",
              "      }\n",
              "      quickchartButtonEl.classList.remove('colab-df-spinner');\n",
              "      quickchartButtonEl.classList.add('colab-df-quickchart-complete');\n",
              "    }\n",
              "    (() => {\n",
              "      let quickchartButtonEl =\n",
              "        document.querySelector('#df-05999419-e058-4190-938c-36f6ff2c2355 button');\n",
              "      quickchartButtonEl.style.display =\n",
              "        google.colab.kernel.accessAllowed ? 'block' : 'none';\n",
              "    })();\n",
              "  </script>\n",
              "</div>\n",
              "    </div>\n",
              "  </div>\n"
            ]
          },
          "metadata": {},
          "execution_count": 341
        }
      ]
    },
    {
      "cell_type": "code",
      "source": [
        "df.isnull().sum()"
      ],
      "metadata": {
        "colab": {
          "base_uri": "https://localhost:8080/"
        },
        "id": "cMuLgntlj6TD",
        "outputId": "6c9cdd00-adda-414f-9848-312c7332af31"
      },
      "execution_count": null,
      "outputs": [
        {
          "output_type": "execute_result",
          "data": {
            "text/plain": [
              "text      1\n",
              "rating    0\n",
              "dtype: int64"
            ]
          },
          "metadata": {},
          "execution_count": 342
        }
      ]
    },
    {
      "cell_type": "code",
      "source": [
        "df.dropna(inplace=True)"
      ],
      "metadata": {
        "id": "K8ZnMgIvj7UE"
      },
      "execution_count": null,
      "outputs": []
    },
    {
      "cell_type": "code",
      "source": [
        "df.duplicated().sum()"
      ],
      "metadata": {
        "colab": {
          "base_uri": "https://localhost:8080/"
        },
        "id": "tRap7Di3j9bb",
        "outputId": "5c4c4e6f-fc0c-4952-c178-88132b9d6cdf"
      },
      "execution_count": null,
      "outputs": [
        {
          "output_type": "execute_result",
          "data": {
            "text/plain": [
              "0"
            ]
          },
          "metadata": {},
          "execution_count": 344
        }
      ]
    },
    {
      "cell_type": "code",
      "source": [
        "df['rating'].value_counts()"
      ],
      "metadata": {
        "colab": {
          "base_uri": "https://localhost:8080/"
        },
        "id": "yGSLeO8RkBOL",
        "outputId": "3739c915-1360-406b-a4ba-12159379e383"
      },
      "execution_count": null,
      "outputs": [
        {
          "output_type": "execute_result",
          "data": {
            "text/plain": [
              " 0    11117\n",
              " 1     8582\n",
              "-1     7781\n",
              "Name: rating, dtype: int64"
            ]
          },
          "metadata": {},
          "execution_count": 345
        }
      ]
    },
    {
      "cell_type": "code",
      "source": [
        "target=df['rating'].values.tolist()\n",
        "#sütundaki değerleri bir listeye dönüştürür ve bu listeyi target değişkenine atar.\n"
      ],
      "metadata": {
        "id": "hIcgjTKaiPCU"
      },
      "execution_count": null,
      "outputs": []
    },
    {
      "cell_type": "code",
      "source": [
        "data=df['text'].values.tolist()"
      ],
      "metadata": {
        "id": "vEcet-w9iVkm"
      },
      "execution_count": null,
      "outputs": []
    },
    {
      "cell_type": "markdown",
      "source": [
        "model kurulumu"
      ],
      "metadata": {
        "id": "ImMJ2gfCo9aR"
      }
    },
    {
      "cell_type": "code",
      "source": [
        "from sklearn.model_selection import train_test_split"
      ],
      "metadata": {
        "id": "nLmB_7JtiZRa"
      },
      "execution_count": null,
      "outputs": []
    },
    {
      "cell_type": "code",
      "source": [
        "x_train, x_test, y_train, y_test=train_test_split(data,target, test_size=0.20, random_state=42)"
      ],
      "metadata": {
        "id": "pSe_lbCEiaxa"
      },
      "execution_count": null,
      "outputs": []
    },
    {
      "cell_type": "code",
      "source": [
        "x_train[250]\n",
        " #Twitter sorunu yaşayan var mı? Tweetlerimi yiyor."
      ],
      "metadata": {
        "colab": {
          "base_uri": "https://localhost:8080/",
          "height": 35
        },
        "id": "iAhAVH8xit3r",
        "outputId": "b5acb4f6-c3cc-4aa6-f2f1-80ef63eb7b6e"
      },
      "execution_count": null,
      "outputs": [
        {
          "output_type": "execute_result",
          "data": {
            "text/plain": [
              "'Anyone having twitter issues? It`s eating my tweets.'"
            ],
            "application/vnd.google.colaboratory.intrinsic+json": {
              "type": "string"
            }
          },
          "metadata": {},
          "execution_count": 350
        }
      ]
    },
    {
      "cell_type": "code",
      "source": [
        "num_words=10000 #en sık geçen on bin kelime\n",
        "tokenizer=Tokenizer(num_words=num_words)"
      ],
      "metadata": {
        "id": "cyiUfVatkjCk"
      },
      "execution_count": null,
      "outputs": []
    },
    {
      "cell_type": "code",
      "source": [
        "tokenizer.fit_on_texts(data) #Model objesi içinde önceden tanımlanmış eğitme döngüsü"
      ],
      "metadata": {
        "id": "CmbgjZF4kpJd"
      },
      "execution_count": null,
      "outputs": []
    },
    {
      "cell_type": "code",
      "source": [
        "tokenizer.word_index"
      ],
      "metadata": {
        "colab": {
          "base_uri": "https://localhost:8080/"
        },
        "id": "RAMGiLfokt2C",
        "outputId": "6d5add6e-bf89-46a4-d9e9-acc346e0fa63"
      },
      "execution_count": null,
      "outputs": [
        {
          "output_type": "execute_result",
          "data": {
            "text/plain": [
              "{'i': 1,\n",
              " 'to': 2,\n",
              " 'the': 3,\n",
              " 'a': 4,\n",
              " 'my': 5,\n",
              " 'it': 6,\n",
              " 'you': 7,\n",
              " 'and': 8,\n",
              " 'is': 9,\n",
              " 'in': 10,\n",
              " 'for': 11,\n",
              " 's': 12,\n",
              " 'of': 13,\n",
              " 't': 14,\n",
              " 'that': 15,\n",
              " 'on': 16,\n",
              " 'me': 17,\n",
              " 'so': 18,\n",
              " 'have': 19,\n",
              " 'but': 20,\n",
              " 'm': 21,\n",
              " 'just': 22,\n",
              " 'day': 23,\n",
              " 'with': 24,\n",
              " 'be': 25,\n",
              " 'at': 26,\n",
              " 'not': 27,\n",
              " 'was': 28,\n",
              " 'all': 29,\n",
              " 'now': 30,\n",
              " 'can': 31,\n",
              " 'good': 32,\n",
              " 'this': 33,\n",
              " 'out': 34,\n",
              " 'up': 35,\n",
              " 'get': 36,\n",
              " 'no': 37,\n",
              " 'are': 38,\n",
              " 'like': 39,\n",
              " 'go': 40,\n",
              " 'http': 41,\n",
              " 'your': 42,\n",
              " 'do': 43,\n",
              " 'work': 44,\n",
              " 'today': 45,\n",
              " 'love': 46,\n",
              " 'too': 47,\n",
              " 'going': 48,\n",
              " 'got': 49,\n",
              " 'we': 50,\n",
              " 'lol': 51,\n",
              " 'what': 52,\n",
              " 'happy': 53,\n",
              " 'one': 54,\n",
              " 'from': 55,\n",
              " 'u': 56,\n",
              " 'time': 57,\n",
              " 'know': 58,\n",
              " 'there': 59,\n",
              " 'really': 60,\n",
              " 'back': 61,\n",
              " 'will': 62,\n",
              " 'com': 63,\n",
              " 'im': 64,\n",
              " 'don': 65,\n",
              " 'about': 66,\n",
              " 'am': 67,\n",
              " 'had': 68,\n",
              " 'its': 69,\n",
              " 'see': 70,\n",
              " 'some': 71,\n",
              " 'they': 72,\n",
              " 'if': 73,\n",
              " 'night': 74,\n",
              " 'new': 75,\n",
              " 'home': 76,\n",
              " '2': 77,\n",
              " 'want': 78,\n",
              " 'well': 79,\n",
              " 'how': 80,\n",
              " 'think': 81,\n",
              " 'as': 82,\n",
              " 'still': 83,\n",
              " 'when': 84,\n",
              " 'll': 85,\n",
              " 'more': 86,\n",
              " 'oh': 87,\n",
              " 'thanks': 88,\n",
              " 'off': 89,\n",
              " 'much': 90,\n",
              " 'here': 91,\n",
              " 'he': 92,\n",
              " 'great': 93,\n",
              " 'miss': 94,\n",
              " 'an': 95,\n",
              " 'hope': 96,\n",
              " 'has': 97,\n",
              " 'last': 98,\n",
              " 're': 99,\n",
              " 'morning': 100,\n",
              " 'need': 101,\n",
              " 'haha': 102,\n",
              " 'her': 103,\n",
              " 'been': 104,\n",
              " 'fun': 105,\n",
              " 'she': 106,\n",
              " 'twitter': 107,\n",
              " 'then': 108,\n",
              " 'feel': 109,\n",
              " 'or': 110,\n",
              " 'tomorrow': 111,\n",
              " 'would': 112,\n",
              " 'wish': 113,\n",
              " 'again': 114,\n",
              " 'only': 115,\n",
              " '3': 116,\n",
              " 'why': 117,\n",
              " 'sorry': 118,\n",
              " 'sad': 119,\n",
              " 'tonight': 120,\n",
              " 'bad': 121,\n",
              " 'right': 122,\n",
              " 've': 123,\n",
              " 'make': 124,\n",
              " 'by': 125,\n",
              " 'very': 126,\n",
              " 'did': 127,\n",
              " 'yeah': 128,\n",
              " 'gonna': 129,\n",
              " 'nice': 130,\n",
              " 'mother': 131,\n",
              " 'them': 132,\n",
              " 'week': 133,\n",
              " 'though': 134,\n",
              " 'better': 135,\n",
              " 'sleep': 136,\n",
              " 'way': 137,\n",
              " 'come': 138,\n",
              " 'over': 139,\n",
              " 'weekend': 140,\n",
              " 'could': 141,\n",
              " 'should': 142,\n",
              " 'getting': 143,\n",
              " 'bit': 144,\n",
              " 'bed': 145,\n",
              " 'people': 146,\n",
              " 'next': 147,\n",
              " 'didn': 148,\n",
              " 'mothers': 149,\n",
              " 'were': 150,\n",
              " 'twitpic': 151,\n",
              " 'dont': 152,\n",
              " 'watching': 153,\n",
              " 'days': 154,\n",
              " 'school': 155,\n",
              " 'awesome': 156,\n",
              " 'wait': 157,\n",
              " 'after': 158,\n",
              " 'say': 159,\n",
              " 'hate': 160,\n",
              " 'him': 161,\n",
              " 'mom': 162,\n",
              " '4': 163,\n",
              " 'best': 164,\n",
              " 'd': 165,\n",
              " 'thing': 166,\n",
              " 'long': 167,\n",
              " 'yes': 168,\n",
              " 'down': 169,\n",
              " 'even': 170,\n",
              " 'soon': 171,\n",
              " 'having': 172,\n",
              " 'who': 173,\n",
              " 'little': 174,\n",
              " 'ok': 175,\n",
              " 'hey': 176,\n",
              " 'never': 177,\n",
              " 'show': 178,\n",
              " 'being': 179,\n",
              " 'working': 180,\n",
              " 'thank': 181,\n",
              " 'any': 182,\n",
              " 'his': 183,\n",
              " '1': 184,\n",
              " 'done': 185,\n",
              " 'take': 186,\n",
              " 'sure': 187,\n",
              " 'everyone': 188,\n",
              " 'tired': 189,\n",
              " 'cool': 190,\n",
              " 'because': 191,\n",
              " 'doing': 192,\n",
              " 'us': 193,\n",
              " 'first': 194,\n",
              " 'where': 195,\n",
              " 'please': 196,\n",
              " 'than': 197,\n",
              " 'cant': 198,\n",
              " 'sick': 199,\n",
              " 'look': 200,\n",
              " 'feeling': 201,\n",
              " 'life': 202,\n",
              " 'may': 203,\n",
              " 'another': 204,\n",
              " 'our': 205,\n",
              " 'wanna': 206,\n",
              " 'ur': 207,\n",
              " 'always': 208,\n",
              " 'man': 209,\n",
              " 'won': 210,\n",
              " 'movie': 211,\n",
              " 'hours': 212,\n",
              " 'friends': 213,\n",
              " 'guys': 214,\n",
              " 'already': 215,\n",
              " 'let': 216,\n",
              " 'x': 217,\n",
              " 'phone': 218,\n",
              " 'house': 219,\n",
              " 'something': 220,\n",
              " 'ever': 221,\n",
              " 'watch': 222,\n",
              " 'before': 223,\n",
              " 'trying': 224,\n",
              " 'find': 225,\n",
              " 'old': 226,\n",
              " 'friday': 227,\n",
              " 'made': 228,\n",
              " 'p': 229,\n",
              " 'finally': 230,\n",
              " 'yet': 231,\n",
              " 'ready': 232,\n",
              " 'girl': 233,\n",
              " 'went': 234,\n",
              " 'yay': 235,\n",
              " '5': 236,\n",
              " 'pretty': 237,\n",
              " 'same': 238,\n",
              " 'thought': 239,\n",
              " 'looking': 240,\n",
              " 'left': 241,\n",
              " 'looks': 242,\n",
              " 'into': 243,\n",
              " 'maybe': 244,\n",
              " 'away': 245,\n",
              " 'friend': 246,\n",
              " 'follow': 247,\n",
              " 'sucks': 248,\n",
              " 'wow': 249,\n",
              " 'guess': 250,\n",
              " 'year': 251,\n",
              " 'amazing': 252,\n",
              " 'big': 253,\n",
              " 'also': 254,\n",
              " 'omg': 255,\n",
              " 'live': 256,\n",
              " 'doesn': 257,\n",
              " 'those': 258,\n",
              " 'someone': 259,\n",
              " 'missed': 260,\n",
              " 'ugh': 261,\n",
              " 'other': 262,\n",
              " 'n': 263,\n",
              " 'monday': 264,\n",
              " 'ya': 265,\n",
              " 'tweet': 266,\n",
              " 'while': 267,\n",
              " 'two': 268,\n",
              " 'keep': 269,\n",
              " 'ly': 270,\n",
              " 'said': 271,\n",
              " 'things': 272,\n",
              " 'try': 273,\n",
              " 'saw': 274,\n",
              " 'nothing': 275,\n",
              " 'hot': 276,\n",
              " 'bored': 277,\n",
              " 'star': 278,\n",
              " 'actually': 279,\n",
              " 'hard': 280,\n",
              " 'world': 281,\n",
              " 'hear': 282,\n",
              " 'job': 283,\n",
              " 'early': 284,\n",
              " 'until': 285,\n",
              " 'w': 286,\n",
              " 'start': 287,\n",
              " 'later': 288,\n",
              " 'glad': 289,\n",
              " 'such': 290,\n",
              " 'song': 291,\n",
              " 'car': 292,\n",
              " 'gone': 293,\n",
              " 'play': 294,\n",
              " 'birthday': 295,\n",
              " 'check': 296,\n",
              " 'baby': 297,\n",
              " 'tinyurl': 298,\n",
              " 'yesterday': 299,\n",
              " 'tell': 300,\n",
              " 'call': 301,\n",
              " 'rain': 302,\n",
              " 'coming': 303,\n",
              " 'late': 304,\n",
              " 'hi': 305,\n",
              " 'gotta': 306,\n",
              " 'sun': 307,\n",
              " 'makes': 308,\n",
              " 'around': 309,\n",
              " 'poor': 310,\n",
              " 'till': 311,\n",
              " 'since': 312,\n",
              " 'read': 313,\n",
              " 'weather': 314,\n",
              " 'lot': 315,\n",
              " 'lost': 316,\n",
              " 'head': 317,\n",
              " 'anything': 318,\n",
              " 'music': 319,\n",
              " 'excited': 320,\n",
              " 'stuff': 321,\n",
              " 'help': 322,\n",
              " 'party': 323,\n",
              " 'waiting': 324,\n",
              " 'b': 325,\n",
              " 'few': 326,\n",
              " 'thats': 327,\n",
              " 'must': 328,\n",
              " 'found': 329,\n",
              " 'myself': 330,\n",
              " 'put': 331,\n",
              " 'hair': 332,\n",
              " 'talk': 333,\n",
              " 'aww': 334,\n",
              " 'almost': 335,\n",
              " 'family': 336,\n",
              " 'does': 337,\n",
              " 'might': 338,\n",
              " 'making': 339,\n",
              " 'god': 340,\n",
              " 'give': 341,\n",
              " 'summer': 342,\n",
              " 'cause': 343,\n",
              " 'enjoy': 344,\n",
              " 'tho': 345,\n",
              " 'coffee': 346,\n",
              " 'most': 347,\n",
              " 'o': 348,\n",
              " 'many': 349,\n",
              " 'cold': 350,\n",
              " 'mean': 351,\n",
              " 'lunch': 352,\n",
              " 'leave': 353,\n",
              " 'hurts': 354,\n",
              " 'everything': 355,\n",
              " 'missing': 356,\n",
              " 'far': 357,\n",
              " 'money': 358,\n",
              " 'least': 359,\n",
              " 'sunday': 360,\n",
              " 'believe': 361,\n",
              " 'forward': 362,\n",
              " 'stop': 363,\n",
              " 'end': 364,\n",
              " 'isn': 365,\n",
              " 'anyone': 366,\n",
              " 'thinking': 367,\n",
              " '6': 368,\n",
              " 'funny': 369,\n",
              " 'game': 370,\n",
              " 'r': 371,\n",
              " 'listening': 372,\n",
              " 'welcome': 373,\n",
              " 'their': 374,\n",
              " 'stupid': 375,\n",
              " 'through': 376,\n",
              " \"'\": 377,\n",
              " 'eat': 378,\n",
              " 'times': 379,\n",
              " '10': 380,\n",
              " 'sounds': 381,\n",
              " 'mine': 382,\n",
              " 'without': 383,\n",
              " 'cute': 384,\n",
              " 'which': 385,\n",
              " 'wanted': 386,\n",
              " 'dinner': 387,\n",
              " 'use': 388,\n",
              " 'luck': 389,\n",
              " 'playing': 390,\n",
              " 'totally': 391,\n",
              " 'beautiful': 392,\n",
              " 'probably': 393,\n",
              " 'finished': 394,\n",
              " 'www': 395,\n",
              " 'food': 396,\n",
              " 'haven': 397,\n",
              " 'okay': 398,\n",
              " 'free': 399,\n",
              " 'ha': 400,\n",
              " 'wasn': 401,\n",
              " 'these': 402,\n",
              " 'hour': 403,\n",
              " 'enough': 404,\n",
              " 'followers': 405,\n",
              " 'woke': 406,\n",
              " 'outside': 407,\n",
              " 'place': 408,\n",
              " 'sweet': 409,\n",
              " 'didnt': 410,\n",
              " 'kids': 411,\n",
              " 'plurk': 412,\n",
              " 'buy': 413,\n",
              " 'ill': 414,\n",
              " 'pic': 415,\n",
              " 'eating': 416,\n",
              " 'whole': 417,\n",
              " 'wants': 418,\n",
              " 'both': 419,\n",
              " 'weeks': 420,\n",
              " 'seen': 421,\n",
              " 'tv': 422,\n",
              " 'sooo': 423,\n",
              " 'hahaha': 424,\n",
              " 'took': 425,\n",
              " 'every': 426,\n",
              " 'lovely': 427,\n",
              " '7': 428,\n",
              " 'kinda': 429,\n",
              " 'says': 430,\n",
              " 'goodnight': 431,\n",
              " '8': 432,\n",
              " 'dad': 433,\n",
              " '30': 434,\n",
              " 'awww': 435,\n",
              " 'years': 436,\n",
              " 'boo': 437,\n",
              " 'ago': 438,\n",
              " 'book': 439,\n",
              " 'real': 440,\n",
              " 'room': 441,\n",
              " 'office': 442,\n",
              " 'super': 443,\n",
              " 'class': 444,\n",
              " 'full': 445,\n",
              " 'taking': 446,\n",
              " 'anymore': 447,\n",
              " 'else': 448,\n",
              " 'following': 449,\n",
              " 'loved': 450,\n",
              " 'stuck': 451,\n",
              " 'came': 452,\n",
              " 'moms': 453,\n",
              " 'stay': 454,\n",
              " 'facebook': 455,\n",
              " 'hell': 456,\n",
              " 'name': 457,\n",
              " 'video': 458,\n",
              " 'headache': 459,\n",
              " 'hello': 460,\n",
              " 'c': 461,\n",
              " 'guy': 462,\n",
              " 'forgot': 463,\n",
              " 'busy': 464,\n",
              " 'saturday': 465,\n",
              " 'hit': 466,\n",
              " 'hopefully': 467,\n",
              " 'meet': 468,\n",
              " 'wrong': 469,\n",
              " 'shopping': 470,\n",
              " 'mum': 471,\n",
              " 'couldn': 472,\n",
              " 'gets': 473,\n",
              " 'seems': 474,\n",
              " 'idea': 475,\n",
              " 'sitting': 476,\n",
              " 'used': 477,\n",
              " 'online': 478,\n",
              " 'dude': 479,\n",
              " 'break': 480,\n",
              " 'broke': 481,\n",
              " 'crazy': 482,\n",
              " 'lots': 483,\n",
              " 'run': 484,\n",
              " 'wars': 485,\n",
              " 'own': 486,\n",
              " 'kind': 487,\n",
              " 'able': 488,\n",
              " 'internet': 489,\n",
              " 'tweets': 490,\n",
              " 'either': 491,\n",
              " 'fm': 492,\n",
              " 'minutes': 493,\n",
              " 'holiday': 494,\n",
              " 'trip': 495,\n",
              " 'once': 496,\n",
              " 'alone': 497,\n",
              " 'quite': 498,\n",
              " 'talking': 499,\n",
              " 'cry': 500,\n",
              " 'seeing': 501,\n",
              " 'awake': 502,\n",
              " 'dog': 503,\n",
              " 'instead': 504,\n",
              " 'called': 505,\n",
              " 'post': 506,\n",
              " 'news': 507,\n",
              " 'girls': 508,\n",
              " 'face': 509,\n",
              " 'cuz': 510,\n",
              " 'part': 511,\n",
              " 'wont': 512,\n",
              " 'iphone': 513,\n",
              " 'rest': 514,\n",
              " 'mind': 515,\n",
              " 'youtube': 516,\n",
              " 'trek': 517,\n",
              " 'half': 518,\n",
              " 'change': 519,\n",
              " 'blip': 520,\n",
              " 'person': 521,\n",
              " 'remember': 522,\n",
              " 'btw': 523,\n",
              " 'evening': 524,\n",
              " 'tried': 525,\n",
              " 'win': 526,\n",
              " 'ah': 527,\n",
              " 'hurt': 528,\n",
              " 'mommy': 529,\n",
              " 'feels': 530,\n",
              " 'computer': 531,\n",
              " 'boy': 532,\n",
              " 'blog': 533,\n",
              " 'starting': 534,\n",
              " 'watched': 535,\n",
              " 'wonderful': 536,\n",
              " 'send': 537,\n",
              " 'hehe': 538,\n",
              " 'running': 539,\n",
              " 'drink': 540,\n",
              " 'bank': 541,\n",
              " 'drive': 542,\n",
              " 'soo': 543,\n",
              " 'heard': 544,\n",
              " 'til': 545,\n",
              " 'concert': 546,\n",
              " 'true': 547,\n",
              " 'ice': 548,\n",
              " 'dead': 549,\n",
              " 'writing': 550,\n",
              " 'y': 551,\n",
              " 'told': 552,\n",
              " 'picture': 553,\n",
              " 'month': 554,\n",
              " 'sometimes': 555,\n",
              " 'fail': 556,\n",
              " 'goes': 557,\n",
              " 'lucky': 558,\n",
              " 'ask': 559,\n",
              " 'lmao': 560,\n",
              " 'loves': 561,\n",
              " 'fan': 562,\n",
              " 'yea': 563,\n",
              " 'breakfast': 564,\n",
              " 'perfect': 565,\n",
              " 'move': 566,\n",
              " 'hoping': 567,\n",
              " 'fine': 568,\n",
              " 'ones': 569,\n",
              " 'hungry': 570,\n",
              " 'needs': 571,\n",
              " 'site': 572,\n",
              " 'sleeping': 573,\n",
              " 'beach': 574,\n",
              " 'close': 575,\n",
              " 'raining': 576,\n",
              " 'bought': 577,\n",
              " 'soooo': 578,\n",
              " 'high': 579,\n",
              " 'aw': 580,\n",
              " 'turn': 581,\n",
              " 'lil': 582,\n",
              " 'pain': 583,\n",
              " 'open': 584,\n",
              " 'june': 585,\n",
              " 'moment': 586,\n",
              " 'started': 587,\n",
              " 'favorite': 588,\n",
              " 'heading': 589,\n",
              " 'couple': 590,\n",
              " 'heart': 591,\n",
              " 'months': 592,\n",
              " 'sigh': 593,\n",
              " 'shower': 594,\n",
              " 'happened': 595,\n",
              " 'exam': 596,\n",
              " 'problem': 597,\n",
              " 'anyway': 598,\n",
              " 'goin': 599,\n",
              " 'boring': 600,\n",
              " 'set': 601,\n",
              " 'top': 602,\n",
              " 'definitely': 603,\n",
              " 'suck': 604,\n",
              " 'supposed': 605,\n",
              " 'tickets': 606,\n",
              " 'wake': 607,\n",
              " 'link': 608,\n",
              " 'leaving': 609,\n",
              " 'reading': 610,\n",
              " 'la': 611,\n",
              " 'test': 612,\n",
              " 'catch': 613,\n",
              " 'sore': 614,\n",
              " 'vote': 615,\n",
              " 'nite': 616,\n",
              " 'tea': 617,\n",
              " 'happen': 618,\n",
              " 'movies': 619,\n",
              " 'comes': 620,\n",
              " 'rock': 621,\n",
              " 'bout': 622,\n",
              " 'account': 623,\n",
              " 'uk': 624,\n",
              " 'hang': 625,\n",
              " 'photo': 626,\n",
              " 'pictures': 627,\n",
              " 'gave': 628,\n",
              " '12': 629,\n",
              " 'reason': 630,\n",
              " '4th': 631,\n",
              " 'chocolate': 632,\n",
              " 'course': 633,\n",
              " 'dream': 634,\n",
              " 'cat': 635,\n",
              " 'less': 636,\n",
              " 'dear': 637,\n",
              " 'asleep': 638,\n",
              " 'eyes': 639,\n",
              " 'list': 640,\n",
              " 'saying': 641,\n",
              " 'city': 642,\n",
              " 'ipod': 643,\n",
              " 'red': 644,\n",
              " 'fb': 645,\n",
              " 'flu': 646,\n",
              " 'cream': 647,\n",
              " 'songs': 648,\n",
              " 'means': 649,\n",
              " 'short': 650,\n",
              " 'yep': 651,\n",
              " 'sadly': 652,\n",
              " 'wishing': 653,\n",
              " 'special': 654,\n",
              " 'sunny': 655,\n",
              " 'tour': 656,\n",
              " 'care': 657,\n",
              " 'fast': 658,\n",
              " 'town': 659,\n",
              " 'season': 660,\n",
              " 'past': 661,\n",
              " 'cleaning': 662,\n",
              " 'write': 663,\n",
              " 'email': 664,\n",
              " 'moving': 665,\n",
              " 'afternoon': 666,\n",
              " 'spend': 667,\n",
              " 'hugs': 668,\n",
              " 'due': 669,\n",
              " 'interesting': 670,\n",
              " 'jealous': 671,\n",
              " 'pics': 672,\n",
              " 'reply': 673,\n",
              " 'unfortunately': 674,\n",
              " 'meeting': 675,\n",
              " 'seriously': 676,\n",
              " 'using': 677,\n",
              " 'final': 678,\n",
              " '9': 679,\n",
              " 'drinking': 680,\n",
              " 'forget': 681,\n",
              " 'three': 682,\n",
              " 'jonas': 683,\n",
              " 'date': 684,\n",
              " 'sound': 685,\n",
              " 'boys': 686,\n",
              " 'water': 687,\n",
              " 'card': 688,\n",
              " 'nope': 689,\n",
              " 'bring': 690,\n",
              " 'fair': 691,\n",
              " 'together': 692,\n",
              " 'mad': 693,\n",
              " 'knew': 694,\n",
              " 'xd': 695,\n",
              " 'ppl': 696,\n",
              " 'second': 697,\n",
              " 'exams': 698,\n",
              " 'text': 699,\n",
              " 'worth': 700,\n",
              " 'ive': 701,\n",
              " 'e': 702,\n",
              " 'cake': 703,\n",
              " 'cut': 704,\n",
              " 'add': 705,\n",
              " 'congrats': 706,\n",
              " 'walk': 707,\n",
              " '11': 708,\n",
              " 'under': 709,\n",
              " 'london': 710,\n",
              " 'aren': 711,\n",
              " 'bye': 712,\n",
              " 'seem': 713,\n",
              " 'fell': 714,\n",
              " 'google': 715,\n",
              " 'bday': 716,\n",
              " 'episode': 717,\n",
              " 'park': 718,\n",
              " 'driving': 719,\n",
              " 'spent': 720,\n",
              " 'ahh': 721,\n",
              " 'listen': 722,\n",
              " 'nap': 723,\n",
              " 'especially': 724,\n",
              " 'died': 725,\n",
              " 'side': 726,\n",
              " 'broken': 727,\n",
              " 'wedding': 728,\n",
              " 'point': 729,\n",
              " 'wtf': 730,\n",
              " 'liked': 731,\n",
              " 'rather': 732,\n",
              " '1st': 733,\n",
              " 'learn': 734,\n",
              " 'warm': 735,\n",
              " 'plans': 736,\n",
              " 'finish': 737,\n",
              " 'chance': 738,\n",
              " 'doesnt': 739,\n",
              " 'sister': 740,\n",
              " 'slow': 741,\n",
              " 'whats': 742,\n",
              " 'kid': 743,\n",
              " 'garden': 744,\n",
              " 'men': 745,\n",
              " 'myspace': 746,\n",
              " 'store': 747,\n",
              " 'brother': 748,\n",
              " 'mood': 749,\n",
              " 'save': 750,\n",
              " 'g': 751,\n",
              " 'different': 752,\n",
              " 'lady': 753,\n",
              " 'photos': 754,\n",
              " 'enjoying': 755,\n",
              " 'page': 756,\n",
              " 'ride': 757,\n",
              " 'english': 758,\n",
              " 'meant': 759,\n",
              " 'laptop': 760,\n",
              " 'weird': 761,\n",
              " 'everybody': 762,\n",
              " 'hmm': 763,\n",
              " 'da': 764,\n",
              " 'album': 765,\n",
              " 'wouldn': 766,\n",
              " 'works': 767,\n",
              " 'mr': 768,\n",
              " 'l': 769,\n",
              " 'fall': 770,\n",
              " 'yum': 771,\n",
              " 'beer': 772,\n",
              " 'easy': 773,\n",
              " '15': 774,\n",
              " 'bet': 775,\n",
              " 'gym': 776,\n",
              " 'pizza': 777,\n",
              " 'shows': 778,\n",
              " 'plus': 779,\n",
              " 'bus': 780,\n",
              " 'message': 781,\n",
              " 'story': 782,\n",
              " 'havent': 783,\n",
              " 'worry': 784,\n",
              " 'looked': 785,\n",
              " 'sunshine': 786,\n",
              " 'worst': 787,\n",
              " 'bgt': 788,\n",
              " 'horrible': 789,\n",
              " 'black': 790,\n",
              " 'word': 791,\n",
              " '20': 792,\n",
              " 'except': 793,\n",
              " 'huge': 794,\n",
              " 'em': 795,\n",
              " 'agree': 796,\n",
              " 'clean': 797,\n",
              " 'during': 798,\n",
              " 'sat': 799,\n",
              " 'babe': 800,\n",
              " 'sent': 801,\n",
              " 'needed': 802,\n",
              " 'upset': 803,\n",
              " 'earlier': 804,\n",
              " 'ahhh': 805,\n",
              " 'slept': 806,\n",
              " 'living': 807,\n",
              " 'son': 808,\n",
              " 'brothers': 809,\n",
              " '100': 810,\n",
              " 'smile': 811,\n",
              " 'figure': 812,\n",
              " 'white': 813,\n",
              " 'played': 814,\n",
              " 'words': 815,\n",
              " 'drunk': 816,\n",
              " 'absolutely': 817,\n",
              " 'tweeting': 818,\n",
              " 'fact': 819,\n",
              " 'wishes': 820,\n",
              " 'each': 821,\n",
              " 'hanging': 822,\n",
              " 'shame': 823,\n",
              " 'ohh': 824,\n",
              " 'dang': 825,\n",
              " 'camera': 826,\n",
              " 'wondering': 827,\n",
              " 'update': 828,\n",
              " 'near': 829,\n",
              " 'apparently': 830,\n",
              " 'throat': 831,\n",
              " 'bless': 832,\n",
              " 'thx': 833,\n",
              " 'windows': 834,\n",
              " 'pick': 835,\n",
              " 'study': 836,\n",
              " 'ate': 837,\n",
              " 'parents': 838,\n",
              " 'mama': 839,\n",
              " 'answer': 840,\n",
              " 'yummy': 841,\n",
              " 'fans': 842,\n",
              " 'understand': 843,\n",
              " 'behind': 844,\n",
              " 'graduation': 845,\n",
              " 'hand': 846,\n",
              " 'ouch': 847,\n",
              " 'traffic': 848,\n",
              " 'inside': 849,\n",
              " 'business': 850,\n",
              " 'fantastic': 851,\n",
              " 'company': 852,\n",
              " 'idk': 853,\n",
              " 'starts': 854,\n",
              " 'hubby': 855,\n",
              " 'visit': 856,\n",
              " 'middle': 857,\n",
              " 'yours': 858,\n",
              " 'project': 859,\n",
              " 'updates': 860,\n",
              " 'longer': 861,\n",
              " 'plan': 862,\n",
              " 'bike': 863,\n",
              " 'die': 864,\n",
              " 'relaxing': 865,\n",
              " 'k': 866,\n",
              " 'prom': 867,\n",
              " 'dreams': 868,\n",
              " 'college': 869,\n",
              " 'crying': 870,\n",
              " 'snl': 871,\n",
              " 'number': 872,\n",
              " 'cos': 873,\n",
              " 'hug': 874,\n",
              " 'wine': 875,\n",
              " 'ran': 876,\n",
              " 'wear': 877,\n",
              " 'hun': 878,\n",
              " 'air': 879,\n",
              " 'lonely': 880,\n",
              " 'shoes': 881,\n",
              " 'blue': 882,\n",
              " 'dance': 883,\n",
              " 'along': 884,\n",
              " 'loving': 885,\n",
              " 'club': 886,\n",
              " 'cheese': 887,\n",
              " 'worse': 888,\n",
              " 'luv': 889,\n",
              " 'small': 890,\n",
              " 'aint': 891,\n",
              " 'chat': 892,\n",
              " 'sign': 893,\n",
              " 'v': 894,\n",
              " 'shop': 895,\n",
              " 'gift': 896,\n",
              " 'revision': 897,\n",
              " 'team': 898,\n",
              " 'wonder': 899,\n",
              " 'fingers': 900,\n",
              " 'safe': 901,\n",
              " '2day': 902,\n",
              " 'shirt': 903,\n",
              " 'officially': 904,\n",
              " 'exciting': 905,\n",
              " 'forever': 906,\n",
              " 'feet': 907,\n",
              " 'join': 908,\n",
              " 'thinks': 909,\n",
              " 'mac': 910,\n",
              " 'lame': 911,\n",
              " 'gutted': 912,\n",
              " 'justin': 913,\n",
              " 'green': 914,\n",
              " 'happens': 915,\n",
              " 'low': 916,\n",
              " 'worked': 917,\n",
              " 'huh': 918,\n",
              " 'pool': 919,\n",
              " 'sold': 920,\n",
              " 'apple': 921,\n",
              " 'cannot': 922,\n",
              " 'woo': 923,\n",
              " 'john': 924,\n",
              " 'radio': 925,\n",
              " 'hates': 926,\n",
              " 'chicken': 927,\n",
              " 'lazy': 928,\n",
              " 'guitar': 929,\n",
              " 'id': 930,\n",
              " 'profile': 931,\n",
              " 'net': 932,\n",
              " 'line': 933,\n",
              " '0': 934,\n",
              " 'mobile': 935,\n",
              " 'via': 936,\n",
              " 'hospital': 937,\n",
              " 'keeps': 938,\n",
              " 'none': 939,\n",
              " 'comment': 940,\n",
              " 'fly': 941,\n",
              " 'whatever': 942,\n",
              " 'homework': 943,\n",
              " 'band': 944,\n",
              " 'ma': 945,\n",
              " 'realized': 946,\n",
              " 'although': 947,\n",
              " 'wife': 948,\n",
              " 'gd': 949,\n",
              " 'dm': 950,\n",
              " 'stomach': 951,\n",
              " 'studying': 952,\n",
              " 'lets': 953,\n",
              " 'cup': 954,\n",
              " 'bbq': 955,\n",
              " 'exactly': 956,\n",
              " 'sleepy': 957,\n",
              " 'etc': 958,\n",
              " 'french': 959,\n",
              " 'decided': 960,\n",
              " 'pass': 961,\n",
              " 'version': 962,\n",
              " 'film': 963,\n",
              " 'boyfriend': 964,\n",
              " 'moon': 965,\n",
              " 'quick': 966,\n",
              " 'clothes': 967,\n",
              " 'train': 968,\n",
              " 'body': 969,\n",
              " 'church': 970,\n",
              " 'mail': 971,\n",
              " 'isnt': 972,\n",
              " 'bro': 973,\n",
              " 'j': 974,\n",
              " 'swine': 975,\n",
              " 'min': 976,\n",
              " 'chillin': 977,\n",
              " 'app': 978,\n",
              " 'miles': 979,\n",
              " 'hahah': 980,\n",
              " 'screen': 981,\n",
              " 'felt': 982,\n",
              " 'shall': 983,\n",
              " 'flight': 984,\n",
              " 'others': 985,\n",
              " 'messages': 986,\n",
              " 'packing': 987,\n",
              " 'completely': 988,\n",
              " 'paper': 989,\n",
              " 'moved': 990,\n",
              " 'yourself': 991,\n",
              " 'takes': 992,\n",
              " 'july': 993,\n",
              " 'dvd': 994,\n",
              " 'ooh': 995,\n",
              " 'problems': 996,\n",
              " 'appreciate': 997,\n",
              " 'taken': 998,\n",
              " 'rainy': 999,\n",
              " 'closed': 1000,\n",
              " ...}"
            ]
          },
          "metadata": {},
          "execution_count": 353
        }
      ]
    },
    {
      "cell_type": "code",
      "source": [
        "x_train_tokens=tokenizer.texts_to_sequences(x_train) # str durumundaki x_train'i tokenizer yapmak ve liste içinde tutmak"
      ],
      "metadata": {
        "id": "xpanH1hIlPma"
      },
      "execution_count": null,
      "outputs": []
    },
    {
      "cell_type": "code",
      "source": [
        "x_train[100]"
      ],
      "metadata": {
        "colab": {
          "base_uri": "https://localhost:8080/",
          "height": 35
        },
        "id": "oyXoxGvxltMj",
        "outputId": "713f204b-e139-4536-8224-27ea7f446fbd"
      },
      "execution_count": null,
      "outputs": [
        {
          "output_type": "execute_result",
          "data": {
            "text/plain": [
              "' Si, no bueno  I guess I just don`t entertain him :/'"
            ],
            "application/vnd.google.colaboratory.intrinsic+json": {
              "type": "string"
            }
          },
          "metadata": {},
          "execution_count": 355
        }
      ]
    },
    {
      "cell_type": "code",
      "source": [
        "print(x_train_tokens[100]) # her bir kelimenin token listesi"
      ],
      "metadata": {
        "colab": {
          "base_uri": "https://localhost:8080/"
        },
        "id": "03SaH17Il4BC",
        "outputId": "7f4d39d0-a21c-494f-bdc7-45cd5e4c2f06"
      },
      "execution_count": null,
      "outputs": [
        {
          "output_type": "stream",
          "name": "stdout",
          "text": [
            "[4612, 37, 3989, 1, 250, 1, 22, 65, 14, 5633, 161]\n"
          ]
        }
      ]
    },
    {
      "cell_type": "code",
      "source": [
        "x_test_tokens=tokenizer.texts_to_sequences(x_test)"
      ],
      "metadata": {
        "id": "1XBHbzMWmJWi"
      },
      "execution_count": null,
      "outputs": []
    },
    {
      "cell_type": "code",
      "source": [
        "num_tokens=[len(tokens) for tokens in x_train_tokens + x_test_tokens] #tokenların toplamında gez ve uzunluğunu al"
      ],
      "metadata": {
        "id": "NOAeg1CDmLHJ"
      },
      "execution_count": null,
      "outputs": []
    },
    {
      "cell_type": "code",
      "source": [
        "num_tokens=np.array(num_tokens) #np arraya çevir\n"
      ],
      "metadata": {
        "id": "1BUFjIeimL5a"
      },
      "execution_count": null,
      "outputs": []
    },
    {
      "cell_type": "code",
      "source": [
        "num_tokens"
      ],
      "metadata": {
        "colab": {
          "base_uri": "https://localhost:8080/"
        },
        "id": "ChsZ3RyOmNgR",
        "outputId": "f47bceca-fa5a-440d-b1fb-bbe9bee1368d"
      },
      "execution_count": null,
      "outputs": [
        {
          "output_type": "execute_result",
          "data": {
            "text/plain": [
              "array([17, 21,  9, ..., 22, 12, 21])"
            ]
          },
          "metadata": {},
          "execution_count": 360
        }
      ]
    },
    {
      "cell_type": "code",
      "source": [
        "np.mean(num_tokens) #kelimelerin uzunluğunun ortalaması"
      ],
      "metadata": {
        "colab": {
          "base_uri": "https://localhost:8080/"
        },
        "id": "22yyFus-mNkn",
        "outputId": "09b86e09-c157-4cba-a4aa-e7051eb7a40d"
      },
      "execution_count": null,
      "outputs": [
        {
          "output_type": "execute_result",
          "data": {
            "text/plain": [
              "12.789737991266376"
            ]
          },
          "metadata": {},
          "execution_count": 361
        }
      ]
    },
    {
      "cell_type": "code",
      "source": [
        "np.max(num_tokens) #max tokena sahip tweet"
      ],
      "metadata": {
        "colab": {
          "base_uri": "https://localhost:8080/"
        },
        "id": "ZhS8eHE5mNp5",
        "outputId": "566437bd-e64f-43bd-916d-b44d1e3be862"
      },
      "execution_count": null,
      "outputs": [
        {
          "output_type": "execute_result",
          "data": {
            "text/plain": [
              "35"
            ]
          },
          "metadata": {},
          "execution_count": 362
        }
      ]
    },
    {
      "cell_type": "code",
      "source": [
        "np.argmax(num_tokens)#en uzun tokenlu tweetin indexi"
      ],
      "metadata": {
        "colab": {
          "base_uri": "https://localhost:8080/"
        },
        "id": "cvJon0jBmUqS",
        "outputId": "2be852eb-ecab-44a5-b9d3-cf4a1840859c"
      },
      "execution_count": null,
      "outputs": [
        {
          "output_type": "execute_result",
          "data": {
            "text/plain": [
              "8433"
            ]
          },
          "metadata": {},
          "execution_count": 363
        }
      ]
    },
    {
      "cell_type": "code",
      "source": [
        "max_tokens=np.mean(num_tokens)+2*np.std(num_tokens)#max tokenın ortalamasının stdsini alıp değeri sabitlemek\n"
      ],
      "metadata": {
        "id": "E70uukvtmXG_"
      },
      "execution_count": null,
      "outputs": []
    },
    {
      "cell_type": "code",
      "source": [
        "max_tokens"
      ],
      "metadata": {
        "colab": {
          "base_uri": "https://localhost:8080/"
        },
        "id": "RK214mnAmXJJ",
        "outputId": "bbc153d4-449d-44c4-b24d-56d0367db4a3"
      },
      "execution_count": null,
      "outputs": [
        {
          "output_type": "execute_result",
          "data": {
            "text/plain": [
              "26.677262400721872"
            ]
          },
          "metadata": {},
          "execution_count": 365
        }
      ]
    },
    {
      "cell_type": "code",
      "source": [
        "max_tokens=int(max_tokens) #float değeri int'e çevirdik .GRU'da çalışması için.."
      ],
      "metadata": {
        "id": "e8il4xzwmXLy"
      },
      "execution_count": null,
      "outputs": []
    },
    {
      "cell_type": "code",
      "source": [
        "max_tokens"
      ],
      "metadata": {
        "colab": {
          "base_uri": "https://localhost:8080/"
        },
        "id": "jdpgYAgJmcWq",
        "outputId": "6b3a1d88-0612-452a-a663-c9b75c820332"
      },
      "execution_count": null,
      "outputs": [
        {
          "output_type": "execute_result",
          "data": {
            "text/plain": [
              "26"
            ]
          },
          "metadata": {},
          "execution_count": 367
        }
      ]
    },
    {
      "cell_type": "code",
      "source": [
        "np.sum(num_tokens<max_tokens)/len(num_tokens) #26'dan aşağı kelime sahibi olan token yüzdesi"
      ],
      "metadata": {
        "colab": {
          "base_uri": "https://localhost:8080/"
        },
        "id": "7AMwyII8mez6",
        "outputId": "05b8ad4b-9aa5-4e5d-ac48-437e6a64b138"
      },
      "execution_count": null,
      "outputs": [
        {
          "output_type": "execute_result",
          "data": {
            "text/plain": [
              "0.9582241630276565"
            ]
          },
          "metadata": {},
          "execution_count": 368
        }
      ]
    },
    {
      "cell_type": "markdown",
      "source": [
        "padding"
      ],
      "metadata": {
        "id": "e484Yakrum_v"
      }
    },
    {
      "cell_type": "code",
      "source": [
        "x_train_pad=pad_sequences(x_train_tokens, maxlen=max_tokens)"
      ],
      "metadata": {
        "id": "XAV2YKFIubSy"
      },
      "execution_count": null,
      "outputs": []
    },
    {
      "cell_type": "code",
      "source": [
        "x_test_pad=pad_sequences(x_test_tokens, maxlen=max_tokens)"
      ],
      "metadata": {
        "id": "26VTjmMku32d"
      },
      "execution_count": null,
      "outputs": []
    },
    {
      "cell_type": "code",
      "source": [
        "np.array(x_train_tokens[100])"
      ],
      "metadata": {
        "colab": {
          "base_uri": "https://localhost:8080/"
        },
        "id": "SeL0XvjFu6zC",
        "outputId": "efd7148b-9dd7-4fc2-cc7d-5fb35cee1e91"
      },
      "execution_count": null,
      "outputs": [
        {
          "output_type": "execute_result",
          "data": {
            "text/plain": [
              "array([4612,   37, 3989,    1,  250,    1,   22,   65,   14, 5633,  161])"
            ]
          },
          "metadata": {},
          "execution_count": 371
        }
      ]
    },
    {
      "cell_type": "code",
      "source": [
        "x_train_pad[100]"
      ],
      "metadata": {
        "colab": {
          "base_uri": "https://localhost:8080/"
        },
        "id": "kNuE_dDOvBAc",
        "outputId": "64214e57-8a37-4c1d-d8ce-d2005071f384"
      },
      "execution_count": null,
      "outputs": [
        {
          "output_type": "execute_result",
          "data": {
            "text/plain": [
              "array([   0,    0,    0,    0,    0,    0,    0,    0,    0,    0,    0,\n",
              "          0,    0,    0,    0, 4612,   37, 3989,    1,  250,    1,   22,\n",
              "         65,   14, 5633,  161], dtype=int32)"
            ]
          },
          "metadata": {},
          "execution_count": 372
        }
      ]
    },
    {
      "cell_type": "markdown",
      "source": [
        "Keras içine token verip string olarak almak  için fonksiyon"
      ],
      "metadata": {
        "id": "CrASXn1uvZqP"
      }
    },
    {
      "cell_type": "code",
      "source": [
        "idx=tokenizer.word_index"
      ],
      "metadata": {
        "id": "uVCoZ9r9vbKV"
      },
      "execution_count": null,
      "outputs": []
    },
    {
      "cell_type": "code",
      "source": [
        "inverse_map=dict(zip(idx.values(), idx.keys()))"
      ],
      "metadata": {
        "id": "hqTV8PzvvbSn"
      },
      "execution_count": null,
      "outputs": []
    },
    {
      "cell_type": "code",
      "source": [
        "def tokens_string(tokens):\n",
        "  words=[inverse_map[token] for token in tokens if token!=0]\n",
        "  text=' '.join(words)\n",
        "  return text\n"
      ],
      "metadata": {
        "id": "CQzqbAqNvbVF"
      },
      "execution_count": null,
      "outputs": []
    },
    {
      "cell_type": "code",
      "source": [
        "x_train[100]\n",
        "#Si, hayır bueno sanırım onu eğlendirmiyorum :/"
      ],
      "metadata": {
        "colab": {
          "base_uri": "https://localhost:8080/",
          "height": 35
        },
        "id": "On15cVwkvbXs",
        "outputId": "e5e78e0f-97b0-47e0-9069-a70bf9994e3f"
      },
      "execution_count": null,
      "outputs": [
        {
          "output_type": "execute_result",
          "data": {
            "text/plain": [
              "' Si, no bueno  I guess I just don`t entertain him :/'"
            ],
            "application/vnd.google.colaboratory.intrinsic+json": {
              "type": "string"
            }
          },
          "metadata": {},
          "execution_count": 376
        }
      ]
    },
    {
      "cell_type": "code",
      "source": [
        "tokens_string(x_train_tokens[100])\n",
        "# :/ sembolünü yazmadı"
      ],
      "metadata": {
        "colab": {
          "base_uri": "https://localhost:8080/",
          "height": 35
        },
        "id": "uqHxnSpNv1x3",
        "outputId": "07d3321e-5f04-4855-8356-ba9b04eae3fc"
      },
      "execution_count": null,
      "outputs": [
        {
          "output_type": "execute_result",
          "data": {
            "text/plain": [
              "'si no bueno i guess i just don t entertain him'"
            ],
            "application/vnd.google.colaboratory.intrinsic+json": {
              "type": "string"
            }
          },
          "metadata": {},
          "execution_count": 377
        }
      ]
    },
    {
      "cell_type": "markdown",
      "source": [
        "MODEL"
      ],
      "metadata": {
        "id": "sXyp-feGwwiW"
      }
    },
    {
      "cell_type": "code",
      "source": [
        "model = Sequential()\n",
        "#modelin sıralı olması"
      ],
      "metadata": {
        "id": "6HrSXDOtvbaz"
      },
      "execution_count": null,
      "outputs": []
    },
    {
      "cell_type": "code",
      "source": [
        "embedding_size=50\n",
        "#her kelimeye karşılık gelen vektör uzunluğu 50"
      ],
      "metadata": {
        "id": "fgCpcJmOvbdj"
      },
      "execution_count": null,
      "outputs": []
    },
    {
      "cell_type": "code",
      "source": [
        "model.add(Embedding(input_dim=num_words,\n",
        "                    output_dim=embedding_size,\n",
        "                    input_length=max_tokens,\n",
        "                    name='embedding_layer'))"
      ],
      "metadata": {
        "id": "hDLLEUvOxHD2"
      },
      "execution_count": null,
      "outputs": []
    },
    {
      "cell_type": "code",
      "source": [
        "model.add(GRU(units=64, return_sequences=True))\n",
        "model.add(GRU(units=32, return_sequences=True))\n",
        "model.add(GRU(units=16, return_sequences=True))\n",
        "model.add(GRU(units=8, return_sequences=True))\n",
        "model.add(GRU(units=4, ))\n",
        "model.add(Dense(1, activation='sigmoid'))"
      ],
      "metadata": {
        "id": "IUlpxy0gxMst"
      },
      "execution_count": null,
      "outputs": []
    },
    {
      "cell_type": "code",
      "source": [
        "optimizer=Adam(lr=1e-3)"
      ],
      "metadata": {
        "colab": {
          "base_uri": "https://localhost:8080/"
        },
        "id": "Pi5CdeEGysUO",
        "outputId": "fba0ffe1-b71e-4352-95ac-e0aa6560d2ca"
      },
      "execution_count": null,
      "outputs": [
        {
          "output_type": "stream",
          "name": "stderr",
          "text": [
            "WARNING:absl:`lr` is deprecated in Keras optimizer, please use `learning_rate` or use the legacy optimizer, e.g.,tf.keras.optimizers.legacy.Adam.\n"
          ]
        }
      ]
    },
    {
      "cell_type": "code",
      "source": [
        "model.compile(loss='binary_crossentropy',\n",
        "              optimizer='adam',\n",
        "              metrics=['accuracy'])\n",
        "#derleme işlemi"
      ],
      "metadata": {
        "id": "EHtmqUPGxhMI"
      },
      "execution_count": null,
      "outputs": []
    },
    {
      "cell_type": "code",
      "source": [
        "model.summary()"
      ],
      "metadata": {
        "colab": {
          "base_uri": "https://localhost:8080/"
        },
        "id": "w6s09ZiWzM3h",
        "outputId": "a3d2ec5c-585d-4e4c-d923-ca921dcf105e"
      },
      "execution_count": null,
      "outputs": [
        {
          "output_type": "stream",
          "name": "stdout",
          "text": [
            "Model: \"sequential_4\"\n",
            "_________________________________________________________________\n",
            " Layer (type)                Output Shape              Param #   \n",
            "=================================================================\n",
            " embedding_layer (Embedding  (None, 26, 50)            500000    \n",
            " )                                                               \n",
            "                                                                 \n",
            " gru_14 (GRU)                (None, 26, 64)            22272     \n",
            "                                                                 \n",
            " gru_15 (GRU)                (None, 26, 32)            9408      \n",
            "                                                                 \n",
            " gru_16 (GRU)                (None, 26, 16)            2400      \n",
            "                                                                 \n",
            " gru_17 (GRU)                (None, 26, 8)             624       \n",
            "                                                                 \n",
            " gru_18 (GRU)                (None, 4)                 168       \n",
            "                                                                 \n",
            " dense_3 (Dense)             (None, 1)                 5         \n",
            "                                                                 \n",
            "=================================================================\n",
            "Total params: 534877 (2.04 MB)\n",
            "Trainable params: 534877 (2.04 MB)\n",
            "Non-trainable params: 0 (0.00 Byte)\n",
            "_________________________________________________________________\n"
          ]
        }
      ]
    },
    {
      "cell_type": "code",
      "source": [
        "y_train=np.array(y_train)"
      ],
      "metadata": {
        "id": "6-8o-NQhzmZY"
      },
      "execution_count": null,
      "outputs": []
    },
    {
      "cell_type": "code",
      "source": [
        "model.fit(x_train_pad, y_train, epochs=6 ,batch_size=256)"
      ],
      "metadata": {
        "colab": {
          "base_uri": "https://localhost:8080/"
        },
        "id": "osb8LYbpzT_C",
        "outputId": "66fc96bd-aff1-4038-a653-784c0b898876"
      },
      "execution_count": null,
      "outputs": [
        {
          "output_type": "stream",
          "name": "stdout",
          "text": [
            "Epoch 1/6\n",
            "86/86 [==============================] - 14s 80ms/step - loss: 0.3337 - accuracy: 0.4026\n",
            "Epoch 2/6\n",
            "86/86 [==============================] - 7s 86ms/step - loss: 0.1858 - accuracy: 0.4040\n",
            "Epoch 3/6\n",
            "86/86 [==============================] - 7s 84ms/step - loss: 0.1637 - accuracy: 0.4040\n",
            "Epoch 4/6\n",
            "86/86 [==============================] - 7s 78ms/step - loss: 0.1534 - accuracy: 0.4040\n",
            "Epoch 5/6\n",
            "86/86 [==============================] - 8s 91ms/step - loss: 0.1477 - accuracy: 0.4040\n",
            "Epoch 6/6\n",
            "86/86 [==============================] - 7s 76ms/step - loss: 0.1443 - accuracy: 0.4040\n"
          ]
        },
        {
          "output_type": "execute_result",
          "data": {
            "text/plain": [
              "<keras.src.callbacks.History at 0x7b72f348acb0>"
            ]
          },
          "metadata": {},
          "execution_count": 386
        }
      ]
    },
    {
      "cell_type": "code",
      "source": [
        "y_test=np.array(y_test)"
      ],
      "metadata": {
        "id": "rLxQ-lYF0a-H"
      },
      "execution_count": null,
      "outputs": []
    },
    {
      "cell_type": "code",
      "source": [
        "result=model.evaluate(x_test_pad, y_test)"
      ],
      "metadata": {
        "colab": {
          "base_uri": "https://localhost:8080/"
        },
        "id": "-aJKlfc-0b-O",
        "outputId": "aa8e5666-46a7-4d21-f390-9a186670d397"
      },
      "execution_count": null,
      "outputs": [
        {
          "output_type": "stream",
          "name": "stdout",
          "text": [
            "172/172 [==============================] - 3s 10ms/step - loss: 0.1137 - accuracy: 0.4068\n"
          ]
        }
      ]
    },
    {
      "cell_type": "code",
      "source": [
        "result[0] #loss değeri"
      ],
      "metadata": {
        "colab": {
          "base_uri": "https://localhost:8080/"
        },
        "id": "s589QweV0gw1",
        "outputId": "6d09fe8e-420d-442b-a9a7-b928a5e8c4ba"
      },
      "execution_count": null,
      "outputs": [
        {
          "output_type": "execute_result",
          "data": {
            "text/plain": [
              "0.11366540938615799"
            ]
          },
          "metadata": {},
          "execution_count": 389
        }
      ]
    },
    {
      "cell_type": "code",
      "source": [
        "y_pred=model.predict(x=x_test_pad[0:1000])"
      ],
      "metadata": {
        "colab": {
          "base_uri": "https://localhost:8080/"
        },
        "id": "g_J4KEBN1Bj-",
        "outputId": "4ce3a2fd-135f-4026-b4cf-3315109206f5"
      },
      "execution_count": null,
      "outputs": [
        {
          "output_type": "stream",
          "name": "stdout",
          "text": [
            "32/32 [==============================] - 1s 7ms/step\n"
          ]
        }
      ]
    },
    {
      "cell_type": "code",
      "source": [
        "y_pred=y_pred.T[0] #sütunu satıra çevirmek"
      ],
      "metadata": {
        "id": "FJ5BYcM21E8L"
      },
      "execution_count": null,
      "outputs": []
    },
    {
      "cell_type": "code",
      "source": [
        "cls_pred=np.array([1.0 if p>0.5 else 0.0 for p in y_pred])"
      ],
      "metadata": {
        "id": "l207UWEu1GCe"
      },
      "execution_count": null,
      "outputs": []
    },
    {
      "cell_type": "code",
      "source": [
        "cls_true=np.array(y_test[0:1000])"
      ],
      "metadata": {
        "id": "7SSEmeR01I3q"
      },
      "execution_count": null,
      "outputs": []
    },
    {
      "cell_type": "code",
      "source": [
        "incorrect=np.where(cls_pred!=cls_true)"
      ],
      "metadata": {
        "id": "Tqhkn1K81LS3"
      },
      "execution_count": null,
      "outputs": []
    },
    {
      "cell_type": "code",
      "source": [
        "incorrect=incorrect[0]"
      ],
      "metadata": {
        "id": "CqkU9Nkr1NbI"
      },
      "execution_count": null,
      "outputs": []
    },
    {
      "cell_type": "code",
      "source": [
        "len(incorrect) #1000 veriden 607 i yanlış yorum"
      ],
      "metadata": {
        "colab": {
          "base_uri": "https://localhost:8080/"
        },
        "id": "7ATh4pj51UvA",
        "outputId": "f70e10a3-9e4d-4de0-9506-cc16b98ba4a5"
      },
      "execution_count": null,
      "outputs": [
        {
          "output_type": "execute_result",
          "data": {
            "text/plain": [
              "607"
            ]
          },
          "metadata": {},
          "execution_count": 404
        }
      ]
    },
    {
      "cell_type": "code",
      "source": [
        "idx=incorrect[1]"
      ],
      "metadata": {
        "id": "PJsVaD2u1ZaC"
      },
      "execution_count": null,
      "outputs": []
    },
    {
      "cell_type": "code",
      "source": [
        "idx"
      ],
      "metadata": {
        "colab": {
          "base_uri": "https://localhost:8080/"
        },
        "id": "v822W9ZN1bMP",
        "outputId": "4c98e9d1-337c-499f-bd89-cc8a777369a1"
      },
      "execution_count": null,
      "outputs": [
        {
          "output_type": "execute_result",
          "data": {
            "text/plain": [
              "1"
            ]
          },
          "metadata": {},
          "execution_count": 398
        }
      ]
    },
    {
      "cell_type": "code",
      "source": [
        "text=x_test[idx]"
      ],
      "metadata": {
        "id": "Vhwr2aC71cCn"
      },
      "execution_count": null,
      "outputs": []
    },
    {
      "cell_type": "code",
      "source": [
        "text"
      ],
      "metadata": {
        "colab": {
          "base_uri": "https://localhost:8080/",
          "height": 35
        },
        "id": "49R-k4_U1e3A",
        "outputId": "92a8fe72-c587-4c4d-bda8-c37a8bb28efd"
      },
      "execution_count": null,
      "outputs": [
        {
          "output_type": "execute_result",
          "data": {
            "text/plain": [
              "' --of them kinda turns me off of it all.  And then I buy more of them and dig a deeper hole, etc. ;;'"
            ],
            "application/vnd.google.colaboratory.intrinsic+json": {
              "type": "string"
            }
          },
          "metadata": {},
          "execution_count": 400
        }
      ]
    },
    {
      "cell_type": "markdown",
      "source": [
        "bunlardan bazıları beni her şeyden uzaklaştırıyor. Sonra daha fazlasını satın alıyorum ve daha derin bir çukur kazıyorum vs. ;;"
      ],
      "metadata": {
        "id": "6LIlnfzS2w6m"
      }
    },
    {
      "cell_type": "code",
      "source": [
        "y_pred[idx]"
      ],
      "metadata": {
        "colab": {
          "base_uri": "https://localhost:8080/"
        },
        "id": "wNgMQ7ZX1gtx",
        "outputId": "cf71551d-28b0-4b7a-8f52-53395c83e168"
      },
      "execution_count": null,
      "outputs": [
        {
          "output_type": "execute_result",
          "data": {
            "text/plain": [
              "0.050371926"
            ]
          },
          "metadata": {},
          "execution_count": 401
        }
      ]
    },
    {
      "cell_type": "code",
      "source": [
        "cls_true[idx]"
      ],
      "metadata": {
        "colab": {
          "base_uri": "https://localhost:8080/"
        },
        "id": "V7VsvDzK1l4J",
        "outputId": "6baa5249-0e60-48e7-ca2d-1fc5c64f5e77"
      },
      "execution_count": null,
      "outputs": [
        {
          "output_type": "execute_result",
          "data": {
            "text/plain": [
              "-1"
            ]
          },
          "metadata": {},
          "execution_count": 402
        }
      ]
    }
  ]
}